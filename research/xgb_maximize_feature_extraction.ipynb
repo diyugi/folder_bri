{
  "nbformat": 4,
  "nbformat_minor": 0,
  "metadata": {
    "kernelspec": {
      "language": "python",
      "display_name": "Python 3",
      "name": "python3"
    },
    "language_info": {
      "pygments_lexer": "ipython3",
      "nbconvert_exporter": "python",
      "version": "3.6.4",
      "file_extension": ".py",
      "codemirror_mode": {
        "name": "ipython",
        "version": 3
      },
      "name": "python",
      "mimetype": "text/x-python"
    },
    "colab": {
      "name": "Copy of lgbm-starter-minimum-feature-extraction.ipynb",
      "provenance": []
    },
    "accelerator": "GPU"
  },
  "cells": [
    {
      "cell_type": "code",
      "metadata": {
        "colab": {
          "base_uri": "https://localhost:8080/"
        },
        "id": "pLU1P13InFAL",
        "outputId": "9bc420d7-cb58-4e06-d085-6619dfd565c8"
      },
      "source": [
        "!pip install bayesian-optimization"
      ],
      "execution_count": 1,
      "outputs": [
        {
          "output_type": "stream",
          "text": [
            "Collecting bayesian-optimization\n",
            "  Downloading https://files.pythonhosted.org/packages/bb/7a/fd8059a3881d3ab37ac8f72f56b73937a14e8bb14a9733e68cc8b17dbe3c/bayesian-optimization-1.2.0.tar.gz\n",
            "Requirement already satisfied: numpy>=1.9.0 in /usr/local/lib/python3.6/dist-packages (from bayesian-optimization) (1.19.4)\n",
            "Requirement already satisfied: scipy>=0.14.0 in /usr/local/lib/python3.6/dist-packages (from bayesian-optimization) (1.4.1)\n",
            "Requirement already satisfied: scikit-learn>=0.18.0 in /usr/local/lib/python3.6/dist-packages (from bayesian-optimization) (0.22.2.post1)\n",
            "Requirement already satisfied: joblib>=0.11 in /usr/local/lib/python3.6/dist-packages (from scikit-learn>=0.18.0->bayesian-optimization) (1.0.0)\n",
            "Building wheels for collected packages: bayesian-optimization\n",
            "  Building wheel for bayesian-optimization (setup.py) ... \u001b[?25l\u001b[?25hdone\n",
            "  Created wheel for bayesian-optimization: filename=bayesian_optimization-1.2.0-cp36-none-any.whl size=11685 sha256=192aa1fd2c76e3815ea18c09a2307589f67bfffcadef0918508c8fdd29ad65e6\n",
            "  Stored in directory: /root/.cache/pip/wheels/5a/56/ae/e0e3c1fc1954dc3ec712e2df547235ed072b448094d8f94aec\n",
            "Successfully built bayesian-optimization\n",
            "Installing collected packages: bayesian-optimization\n",
            "Successfully installed bayesian-optimization-1.2.0\n"
          ],
          "name": "stdout"
        }
      ]
    },
    {
      "cell_type": "code",
      "metadata": {
        "_uuid": "8f2839f25d086af736a60e9eeb907d3b93b6e0e5",
        "_cell_guid": "b1076dfc-b9ad-4769-8c92-a6c4dae69d19",
        "trusted": true,
        "id": "7MEGphTKViUr"
      },
      "source": [
        "import numpy as np # linear algebra\n",
        "import pandas as pd # data processing, CSV file I/O (e.g. pd.read_csv)\n",
        "from sklearn.preprocessing import StandardScaler, LabelEncoder\n",
        "from sklearn.model_selection import train_test_split\n",
        "from sklearn.metrics import roc_auc_score\n",
        "import lightgbm as lgb\n",
        "from bayes_opt import BayesianOptimization\n",
        "\n",
        "import os\n",
        "#for dirname, _, filenames in os.walk('/kaggle/input'):\n",
        "    #for filename in filenames:\n",
        "#         print(os.path.join(dirname, filename))\n",
        "        #pass"
      ],
      "execution_count": 2,
      "outputs": []
    },
    {
      "cell_type": "code",
      "metadata": {
        "colab": {
          "base_uri": "https://localhost:8080/"
        },
        "id": "EfGG6fifwhFa",
        "outputId": "4b66dbc3-3c1f-41f8-b623-e9b7de59eaff"
      },
      "source": [
        "from google.colab import drive\n",
        "drive.mount('/content/drive')"
      ],
      "execution_count": 3,
      "outputs": [
        {
          "output_type": "stream",
          "text": [
            "Mounted at /content/drive\n"
          ],
          "name": "stdout"
        }
      ]
    },
    {
      "cell_type": "code",
      "metadata": {
        "_uuid": "d629ff2d2480ee46fbb7e2d37f6b5fab8052498a",
        "_cell_guid": "79c7e3d0-c299-4dcb-8224-4455121ee9b0",
        "trusted": true,
        "id": "IJu5yzzpViUx"
      },
      "source": [
        "all_train_data = pd.read_csv('drive/MyDrive/People Analytics/train.csv')\n",
        "all_test_data = pd.read_csv('drive/MyDrive/People Analytics/test.csv')\n",
        "sample_submission = pd.read_csv('drive/MyDrive/People Analytics/sample_submission.csv')\n",
        "dropped_columns = ['year_graduated']\n",
        "y_train = all_train_data['Best Performance']\n",
        "X_train = all_train_data.drop('Best Performance',axis=1)"
      ],
      "execution_count": 4,
      "outputs": []
    },
    {
      "cell_type": "code",
      "metadata": {
        "id": "5-K5nLDdnYsY"
      },
      "source": [
        "#y_train"
      ],
      "execution_count": 5,
      "outputs": []
    },
    {
      "cell_type": "code",
      "metadata": {
        "id": "aYmSIAqCnX_p"
      },
      "source": [
        "for col in dropped_columns:\r\n",
        "    X_train = X_train.drop(col,axis=1)\r\n",
        "X_test = all_test_data\r\n",
        "for col in dropped_columns:\r\n",
        "    X_test = X_test.drop(col,axis=1)\r\n",
        "X_train_, X_test_, y_train_, y_test_ = train_test_split(X_train, y_train, test_size=0.3, random_state=0)"
      ],
      "execution_count": 5,
      "outputs": []
    },
    {
      "cell_type": "code",
      "metadata": {
        "trusted": true,
        "id": "yuQZER2HViUy"
      },
      "source": [
        "#np.unique(X_test[cat]) #broken code"
      ],
      "execution_count": 7,
      "outputs": []
    },
    {
      "cell_type": "code",
      "metadata": {
        "trusted": true,
        "id": "iFUhJzniViUz",
        "colab": {
          "base_uri": "https://localhost:8080/"
        },
        "outputId": "20774b72-bf8a-459e-9563-c78e82a068e1"
      },
      "source": [
        "#cat for categorical\n",
        "cat_columns = ['job_level', 'person_level', 'Employee_type', 'Employee_status', 'gender', 'marital_status_maried(Y/N)', 'Education_level', 'achievement_target_1', 'achievement_target_2', 'achievement_target_3']\n",
        "for cat in cat_columns:\n",
        "    labelencoder = LabelEncoder()\n",
        "    X_train_[cat] = labelencoder.fit_transform(X_train_[cat].astype(str))\n",
        "    X_test_[cat] = labelencoder.transform(X_test_[cat].astype(str))\n",
        "for cat in cat_columns:\n",
        "    labelencoder = LabelEncoder()\n",
        "    X_train[cat] = labelencoder.fit_transform(X_train[cat].astype(str))\n",
        "    X_test[cat] = labelencoder.transform(X_test[cat].astype(str))  \n",
        "    "
      ],
      "execution_count": 9,
      "outputs": [
        {
          "output_type": "stream",
          "text": [
            "/usr/local/lib/python3.6/dist-packages/ipykernel_launcher.py:5: SettingWithCopyWarning: \n",
            "A value is trying to be set on a copy of a slice from a DataFrame.\n",
            "Try using .loc[row_indexer,col_indexer] = value instead\n",
            "\n",
            "See the caveats in the documentation: https://pandas.pydata.org/pandas-docs/stable/user_guide/indexing.html#returning-a-view-versus-a-copy\n",
            "  \"\"\"\n",
            "/usr/local/lib/python3.6/dist-packages/ipykernel_launcher.py:6: SettingWithCopyWarning: \n",
            "A value is trying to be set on a copy of a slice from a DataFrame.\n",
            "Try using .loc[row_indexer,col_indexer] = value instead\n",
            "\n",
            "See the caveats in the documentation: https://pandas.pydata.org/pandas-docs/stable/user_guide/indexing.html#returning-a-view-versus-a-copy\n",
            "  \n"
          ],
          "name": "stderr"
        }
      ]
    },
    {
      "cell_type": "markdown",
      "metadata": {
        "id": "mxzcO5cfViU4"
      },
      "source": [
        "ADVERSARIAL VALIDATION"
      ]
    },
    {
      "cell_type": "code",
      "metadata": {
        "trusted": true,
        "id": "IvxRO9L6ViU5"
      },
      "source": [
        "#XGB"
      ],
      "execution_count": null,
      "outputs": []
    },
    {
      "cell_type": "code",
      "metadata": {
        "trusted": true,
        "id": "gNnU0qV0ViU7"
      },
      "source": [
        "from xgboost.sklearn import XGBClassifier\r\n",
        "import xgboost as xgb"
      ],
      "execution_count": 10,
      "outputs": []
    },
    {
      "cell_type": "code",
      "metadata": {
        "trusted": true,
        "id": "5jec6erJViU7"
      },
      "source": [
        "params = {'n_estimators':100,\r\n",
        "          'learning_rate':0.01\r\n",
        "          }\r\n",
        "model_xgb = xgb.XGBClassifier(**params)\r\n",
        "model_xgb.fit(X_train,y_train)\r\n",
        "model_xgb.predict_proba(X_test)[:,1]\r\n",
        "sample_submission['Best Performance'] = model_xgb.predict_proba(X_test)[:,1]\r\n",
        "sample_submission.to_csv('submission.csv')"
      ],
      "execution_count": 11,
      "outputs": []
    },
    {
      "cell_type": "code",
      "metadata": {
        "trusted": true,
        "id": "xY9NN-foViU8",
        "colab": {
          "base_uri": "https://localhost:8080/"
        },
        "outputId": "1883bfcc-5750-47cc-d637-bfee23c64cad"
      },
      "source": [
        "class xgbm_target :\r\n",
        "    def __init__(self, x_train, y_train, x_test, y_test) :\r\n",
        "        self.x_train = x_train\r\n",
        "        self.y_train = y_train\r\n",
        "        self.x_test = x_test\r\n",
        "        self.y_test = y_test\r\n",
        "        \r\n",
        "    def clean_param(self, param) :\r\n",
        "        params = {'colsample_bytree':1.0, \r\n",
        "                  'learning_rate':0.01,\r\n",
        "                  'n_estimators':100, \r\n",
        "                  'random_state':0, \r\n",
        "                  'reg_alpha':0.0, \r\n",
        "                  'reg_lambda':0.0, \r\n",
        "                  'subsample':1.0,\r\n",
        "                  'gamma':0.0\r\n",
        "                  }\r\n",
        "        params['max_depth'] = int(param['max_depth'])\r\n",
        "        params['learning_rate'] = 0.01\r\n",
        "\r\n",
        "        return params\r\n",
        "        \r\n",
        "    def evaluate(self, max_depth,gamma,n_estimators,learning_rate,reg_alpha,reg_lambda,min_child_weight,colsample_bytree):\r\n",
        "        params = {'max_depth':max_depth,\r\n",
        "                  'n_estimators': int(n_estimators),\r\n",
        "                  'subsample': 0.8,\r\n",
        "                  'learning_rate':learning_rate,\r\n",
        "                  'gamma': gamma,\r\n",
        "                  'reg_alpha':reg_alpha,\r\n",
        "                  'reg_lambda':reg_lambda,\r\n",
        "                  'min_child_weight':min_child_weight,\r\n",
        "                  'colsample_bytree':colsample_bytree\r\n",
        "                  }\r\n",
        "        #params['max_depth'] = int(param['max_depth'])\r\n",
        "        params = self.clean_param(params)\r\n",
        "\r\n",
        "        xgbm_model = xgb.XGBClassifier(**params)\r\n",
        "        xgbm_model.fit(self.x_train, self.y_train)\r\n",
        "        y_pred = xgbm_model.predict_proba(self.x_test)\r\n",
        "        predictions = y_pred[:,1]\r\n",
        "#         rmse = np.sqrt(mean_squared_error(self.y_test, predictions))\r\n",
        "#         return -1*rmse\r\n",
        "        acc = roc_auc_score(self.y_test,predictions)\r\n",
        "        return acc\r\n",
        "\r\n",
        "lt = xgbm_target(X_train_, y_train_, X_test_, y_test_)\r\n",
        "xgbmBO = BayesianOptimization(lt.evaluate, {\r\n",
        "                                            'max_depth': (1, 10),\r\n",
        "                                            'gamma': (0, 0.5),\r\n",
        "                                            'learning_rate':(0.005,0.01),\r\n",
        "                                            'n_estimators':(100,2000),\r\n",
        "                                            'reg_alpha':(0,10),\r\n",
        "                                            'reg_lambda':(10,80),\r\n",
        "                                            'min_child_weight':(1,6),\r\n",
        "                                            'colsample_bytree':(0.5,1)\r\n",
        "                                           }, \r\n",
        "                             random_state=42)\r\n",
        "\r\n",
        "xgbmBO.maximize(n_iter=5, init_points=10, acq='ei')"
      ],
      "execution_count": 24,
      "outputs": [
        {
          "output_type": "stream",
          "text": [
            "|   iter    |  target   | colsam... |   gamma   | learni... | max_depth | min_ch... | n_esti... | reg_alpha | reg_la... |\n",
            "-------------------------------------------------------------------------------------------------------------------------\n",
            "| \u001b[0m 1       \u001b[0m | \u001b[0m 0.7323  \u001b[0m | \u001b[0m 0.6873  \u001b[0m | \u001b[0m 0.4754  \u001b[0m | \u001b[0m 0.00866 \u001b[0m | \u001b[0m 6.388   \u001b[0m | \u001b[0m 1.78    \u001b[0m | \u001b[0m 396.4   \u001b[0m | \u001b[0m 0.5808  \u001b[0m | \u001b[0m 70.63   \u001b[0m |\n",
            "| \u001b[0m 2       \u001b[0m | \u001b[0m 0.7303  \u001b[0m | \u001b[0m 0.8006  \u001b[0m | \u001b[0m 0.354   \u001b[0m | \u001b[0m 0.005103\u001b[0m | \u001b[0m 9.729   \u001b[0m | \u001b[0m 5.162   \u001b[0m | \u001b[0m 503.4   \u001b[0m | \u001b[0m 1.818   \u001b[0m | \u001b[0m 22.84   \u001b[0m |\n",
            "| \u001b[95m 3       \u001b[0m | \u001b[95m 0.7327  \u001b[0m | \u001b[95m 0.6521  \u001b[0m | \u001b[95m 0.2624  \u001b[0m | \u001b[95m 0.00716 \u001b[0m | \u001b[95m 3.621   \u001b[0m | \u001b[95m 4.059   \u001b[0m | \u001b[95m 365.0   \u001b[0m | \u001b[95m 2.921   \u001b[0m | \u001b[95m 35.65   \u001b[0m |\n",
            "| \u001b[95m 4       \u001b[0m | \u001b[95m 0.734   \u001b[0m | \u001b[95m 0.728   \u001b[0m | \u001b[95m 0.3926  \u001b[0m | \u001b[95m 0.005998\u001b[0m | \u001b[95m 5.628   \u001b[0m | \u001b[95m 3.962   \u001b[0m | \u001b[95m 188.3   \u001b[0m | \u001b[95m 6.075   \u001b[0m | \u001b[95m 21.94   \u001b[0m |\n",
            "| \u001b[0m 5       \u001b[0m | \u001b[0m 0.7332  \u001b[0m | \u001b[0m 0.5325  \u001b[0m | \u001b[0m 0.4744  \u001b[0m | \u001b[0m 0.009828\u001b[0m | \u001b[0m 8.276   \u001b[0m | \u001b[0m 2.523   \u001b[0m | \u001b[0m 285.6   \u001b[0m | \u001b[0m 6.842   \u001b[0m | \u001b[0m 40.81   \u001b[0m |\n",
            "| \u001b[0m 6       \u001b[0m | \u001b[0m 0.7303  \u001b[0m | \u001b[0m 0.561   \u001b[0m | \u001b[0m 0.2476  \u001b[0m | \u001b[0m 0.005172\u001b[0m | \u001b[0m 9.184   \u001b[0m | \u001b[0m 2.294   \u001b[0m | \u001b[0m 1.359e+0\u001b[0m | \u001b[0m 3.117   \u001b[0m | \u001b[0m 46.4    \u001b[0m |\n",
            "| \u001b[0m 7       \u001b[0m | \u001b[0m 0.7303  \u001b[0m | \u001b[0m 0.7734  \u001b[0m | \u001b[0m 0.09243 \u001b[0m | \u001b[0m 0.009848\u001b[0m | \u001b[0m 7.976   \u001b[0m | \u001b[0m 5.697   \u001b[0m | \u001b[0m 1.8e+03 \u001b[0m | \u001b[0m 5.979   \u001b[0m | \u001b[0m 74.53   \u001b[0m |\n",
            "| \u001b[0m 8       \u001b[0m | \u001b[0m 0.7327  \u001b[0m | \u001b[0m 0.5442  \u001b[0m | \u001b[0m 0.09799 \u001b[0m | \u001b[0m 0.005226\u001b[0m | \u001b[0m 3.928   \u001b[0m | \u001b[0m 2.943   \u001b[0m | \u001b[0m 615.6   \u001b[0m | \u001b[0m 8.287   \u001b[0m | \u001b[0m 34.97   \u001b[0m |\n",
            "| \u001b[0m 9       \u001b[0m | \u001b[0m 0.7332  \u001b[0m | \u001b[0m 0.6405  \u001b[0m | \u001b[0m 0.2713  \u001b[0m | \u001b[0m 0.005705\u001b[0m | \u001b[0m 8.22    \u001b[0m | \u001b[0m 1.373   \u001b[0m | \u001b[0m 1.975e+0\u001b[0m | \u001b[0m 7.722   \u001b[0m | \u001b[0m 23.91   \u001b[0m |\n",
            "| \u001b[0m 10      \u001b[0m | \u001b[0m 0.7303  \u001b[0m | \u001b[0m 0.5028  \u001b[0m | \u001b[0m 0.4077  \u001b[0m | \u001b[0m 0.008534\u001b[0m | \u001b[0m 7.561   \u001b[0m | \u001b[0m 4.856   \u001b[0m | \u001b[0m 240.7   \u001b[0m | \u001b[0m 3.585   \u001b[0m | \u001b[0m 18.11   \u001b[0m |\n",
            "| \u001b[0m 11      \u001b[0m | \u001b[0m 0.7321  \u001b[0m | \u001b[0m 0.8536  \u001b[0m | \u001b[0m 0.1261  \u001b[0m | \u001b[0m 0.007234\u001b[0m | \u001b[0m 2.111   \u001b[0m | \u001b[0m 2.03    \u001b[0m | \u001b[0m 101.8   \u001b[0m | \u001b[0m 0.3927  \u001b[0m | \u001b[0m 78.41   \u001b[0m |\n",
            "| \u001b[0m 12      \u001b[0m | \u001b[0m 0.7321  \u001b[0m | \u001b[0m 0.7934  \u001b[0m | \u001b[0m 0.4519  \u001b[0m | \u001b[0m 0.008919\u001b[0m | \u001b[0m 2.437   \u001b[0m | \u001b[0m 1.839   \u001b[0m | \u001b[0m 115.5   \u001b[0m | \u001b[0m 6.878   \u001b[0m | \u001b[0m 11.22   \u001b[0m |\n",
            "| \u001b[0m 13      \u001b[0m | \u001b[0m 0.7321  \u001b[0m | \u001b[0m 0.5771  \u001b[0m | \u001b[0m 0.1085  \u001b[0m | \u001b[0m 0.006866\u001b[0m | \u001b[0m 2.659   \u001b[0m | \u001b[0m 2.608   \u001b[0m | \u001b[0m 2e+03   \u001b[0m | \u001b[0m 9.396   \u001b[0m | \u001b[0m 10.27   \u001b[0m |\n",
            "| \u001b[0m 14      \u001b[0m | \u001b[0m 0.7323  \u001b[0m | \u001b[0m 0.7161  \u001b[0m | \u001b[0m 0.3643  \u001b[0m | \u001b[0m 0.007751\u001b[0m | \u001b[0m 6.981   \u001b[0m | \u001b[0m 4.836   \u001b[0m | \u001b[0m 116.0   \u001b[0m | \u001b[0m 9.253   \u001b[0m | \u001b[0m 79.76   \u001b[0m |\n",
            "| \u001b[0m 15      \u001b[0m | \u001b[0m 0.734   \u001b[0m | \u001b[0m 0.5673  \u001b[0m | \u001b[0m 0.1734  \u001b[0m | \u001b[0m 0.005709\u001b[0m | \u001b[0m 5.444   \u001b[0m | \u001b[0m 2.856   \u001b[0m | \u001b[0m 192.0   \u001b[0m | \u001b[0m 7.901   \u001b[0m | \u001b[0m 23.09   \u001b[0m |\n",
            "=========================================================================================================================\n"
          ],
          "name": "stdout"
        }
      ]
    },
    {
      "cell_type": "code",
      "metadata": {
        "trusted": true,
        "id": "WV3pYE47ViU8",
        "colab": {
          "base_uri": "https://localhost:8080/"
        },
        "outputId": "9afedce1-054c-4964-cb94-45ff35944d44"
      },
      "source": [
        "y_label_adv = np.zeros((X_train.shape[0]+ X_test.shape[0]))\r\n",
        "y_label_adv[:X_train.shape[0]] = 1\r\n",
        "adversarial_data = pd.concat((X_train,X_test))\r\n",
        "model_xgb = xgb.XGBClassifier()\r\n",
        "X_train_, X_test_, y_train_, y_test_ = train_test_split(adversarial_data, y_label_adv, test_size=0.3, random_state=42)\r\n",
        "\r\n",
        "model_xgb.fit(X_train_,y_train_)\r\n",
        "y_pred  = model_xgb.predict(X_test_)\r\n",
        "roc_auc_score(y_pred,y_test_)"
      ],
      "execution_count": 25,
      "outputs": [
        {
          "output_type": "execute_result",
          "data": {
            "text/plain": [
              "0.8933928571428571"
            ]
          },
          "metadata": {
            "tags": []
          },
          "execution_count": 25
        }
      ]
    },
    {
      "cell_type": "code",
      "metadata": {
        "trusted": true,
        "id": "sGUUn1LyViU8",
        "colab": {
          "base_uri": "https://localhost:8080/"
        },
        "outputId": "f2629211-2a26-454d-de88-140a8f03c37b"
      },
      "source": [
        "params = xgbmBO.max['params']\r\n",
        "print(params)"
      ],
      "execution_count": 27,
      "outputs": [
        {
          "output_type": "stream",
          "text": [
            "{'colsample_bytree': 0.728034992108518, 'gamma': 0.3925879806965068, 'learning_rate': 0.005998368910791798, 'max_depth': 5.628109945722504, 'min_child_weight': 3.9620728443102124, 'n_estimators': 188.25578416799567, 'reg_alpha': 6.075448519014383, 'reg_lambda': 21.936688658110405}\n"
          ],
          "name": "stdout"
        }
      ]
    },
    {
      "cell_type": "code",
      "metadata": {
        "trusted": true,
        "id": "1OuPjVI_ViU9"
      },
      "source": [
        "params['max_depth']= int(params['max_depth'])\r\n",
        "params['n_estimators']= int(params['n_estimators'])"
      ],
      "execution_count": 28,
      "outputs": []
    },
    {
      "cell_type": "code",
      "metadata": {
        "id": "cdqzviWTCvAx"
      },
      "source": [
        "classifier2 = XGBClassifier(**params).fit(X_train,y_train)"
      ],
      "execution_count": 29,
      "outputs": []
    },
    {
      "cell_type": "code",
      "metadata": {
        "id": "5514LUabE6FS"
      },
      "source": [
        "train_p2 = classifier2.predict(X_train)"
      ],
      "execution_count": 35,
      "outputs": []
    },
    {
      "cell_type": "code",
      "metadata": {
        "colab": {
          "base_uri": "https://localhost:8080/"
        },
        "id": "R-MlM4GdFE6V",
        "outputId": "346d4cfa-ed1c-4632-da57-f11629765dd0"
      },
      "source": [
        "from sklearn.metrics import classification_report, confusion_matrix\r\n",
        "print(classification_report(train_p2, y_train))"
      ],
      "execution_count": 37,
      "outputs": [
        {
          "output_type": "stream",
          "text": [
            "              precision    recall  f1-score   support\n",
            "\n",
            "           0       1.00      0.88      0.94     22005\n",
            "           1       0.00      0.00      0.00         0\n",
            "\n",
            "    accuracy                           0.88     22005\n",
            "   macro avg       0.50      0.44      0.47     22005\n",
            "weighted avg       1.00      0.88      0.94     22005\n",
            "\n"
          ],
          "name": "stdout"
        },
        {
          "output_type": "stream",
          "text": [
            "/usr/local/lib/python3.6/dist-packages/sklearn/metrics/_classification.py:1272: UndefinedMetricWarning: Recall and F-score are ill-defined and being set to 0.0 in labels with no true samples. Use `zero_division` parameter to control this behavior.\n",
            "  _warn_prf(average, modifier, msg_start, len(result))\n"
          ],
          "name": "stderr"
        }
      ]
    },
    {
      "cell_type": "code",
      "metadata": {
        "colab": {
          "base_uri": "https://localhost:8080/"
        },
        "id": "3u0fLnavFsGY",
        "outputId": "07eb0490-1374-4cb1-ac20-333059030632"
      },
      "source": [
        "cm = confusion_matrix(train_p2, y_train)\r\n",
        "acc = cm.diagonal().sum()/cm.sum()\r\n",
        "print(acc)"
      ],
      "execution_count": 38,
      "outputs": [
        {
          "output_type": "stream",
          "text": [
            "0.87875482844808\n"
          ],
          "name": "stdout"
        }
      ]
    },
    {
      "cell_type": "code",
      "metadata": {
        "id": "nnakY11FGVrY"
      },
      "source": [
        ""
      ],
      "execution_count": null,
      "outputs": []
    }
  ]
}